{
 "cells": [
  {
   "cell_type": "markdown",
   "metadata": {},
   "source": [
    "# Evaluation of beam characteristics"
   ]
  },
  {
   "cell_type": "code",
   "execution_count": 2,
   "metadata": {},
   "outputs": [],
   "source": [
    "%load_ext autoreload\n",
    "%autoreload 2\n",
    "%matplotlib qt"
   ]
  },
  {
   "cell_type": "code",
   "execution_count": 3,
   "metadata": {},
   "outputs": [],
   "source": [
    "import numpy as np\n",
    "import matplotlib.pyplot as plt\n",
    "import plot_utils as pltu\n",
    "#import array_analysis"
   ]
  },
  {
   "cell_type": "code",
   "execution_count": 4,
   "metadata": {},
   "outputs": [
    {
     "data": {
      "text/plain": [
       "<matplotlib.legend.Legend at 0x166f1c43f40>"
      ]
     },
     "execution_count": 4,
     "metadata": {},
     "output_type": "execute_result"
    }
   ],
   "source": [
    "fig = plt.figure()\n",
    "ax = fig.add_subplot(1,1,1, projection='3d')\n",
    "theta = np.linspace(0, 2*np.pi, 100)\n",
    "phi = [0 for _ in range(len(theta))]\n",
    "r = [1 for _ in range(len(theta))]\n",
    "\n",
    "X, Y, Z = pltu.spherical_to_cartesian(r, theta, phi)\n",
    "\n",
    "ax.plot(X,Y,Z)\n",
    "\n",
    "# Plot axes\n",
    "\n",
    "ax.plot((0,0), (0,0), (-1, 1),\n",
    "        'b', label='z-axis')\n",
    "ax.plot((0,0), (-1, 1), (0,0),\n",
    "        'g', label='y-axis')\n",
    "ax.plot((-1, 1), (0,0), (0,0),\n",
    "        'r', label='x-axis')\n",
    "ax.set_box_aspect((1,1,1))\n",
    "ax.legend()"
   ]
  },
  {
   "cell_type": "code",
   "execution_count": 5,
   "metadata": {},
   "outputs": [
    {
     "name": "stderr",
     "output_type": "stream",
     "text": [
      "C:\\ProgramData\\Anaconda3\\lib\\site-packages\\numpy\\matrixlib\\defmatrix.py:145: VisibleDeprecationWarning: Creating an ndarray from ragged nested sequences (which is a list-or-tuple of lists-or-tuples-or ndarrays with different lengths or shapes) is deprecated. If you meant to do this, you must specify 'dtype=object' when creating the ndarray\n",
      "  arr = N.array(data, dtype=dtype, copy=copy)\n"
     ]
    }
   ],
   "source": [
    "fig = plt.figure()\n",
    "ax = fig.add_subplot(1,1,1, projection='3d')\n",
    "phi_0 = np.pi/4\n",
    "theta_0 = 2*np.pi/3\n",
    "\n",
    "# Plot the slanted phi plane\n",
    "theta = np.linspace(0, 2*np.pi, 100)\n",
    "phi = [0 for _ in range(len(theta))]\n",
    "r = [1 for _ in range(len(theta))]\n",
    "\n",
    "R_x = np.matrix([[1,                0,                0],\n",
    "                [0,  np.cos(theta_0), -np.sin(theta_0)],\n",
    "                [0,  np.sin(theta_0), np.cos(theta_0)]])\n",
    "R_y = np.matrix([[np.cos(theta_0),  0,  np.sin(theta_0)],\n",
    "                [0,                1,                0],\n",
    "                [-np.sin(theta_0), 0,    np.cos(theta)]])\n",
    "R_z = np.matrix([[np.cos(phi_0+np.pi/2), -np.sin(phi_0+np.pi/2),  0],\n",
    "                [np.sin(phi_0+np.pi/2), np.cos(phi_0+np.pi/2),   0],\n",
    "                [0,               0,                 1]])\n",
    "\n",
    "X, Y, Z = pltu.spherical_to_cartesian(r, theta, phi)\n",
    "points = np.zeros((3,len(X)))\n",
    "\n",
    "for i in range(len(X)):\n",
    "    point = np.array([X[i], Y[i], Z[i]]).T\n",
    "    R_matrix = R_z.dot(R_x)\n",
    "    point = R_matrix.dot(point)\n",
    "    points[:,i] = point\n",
    "\n",
    "\n",
    "r = [1 for _ in range(len(theta))]\n",
    "\n",
    "X, Y, Z = pltu.spherical_to_cartesian(r, theta, phi)\n",
    "\n",
    "ax.plot(points[0,:], points[1,:], points[2,:])\n",
    "\n",
    "# Plot the vertical theta plane\n",
    "theta = np.linspace(0, 2*np.pi, 100)\n",
    "phi = [phi_0 for _ in range(len(theta))]\n",
    "r = [1 for _ in range(len(theta))]\n",
    "\n",
    "X, Y, Z = pltu.spherical_to_cartesian(r, theta, phi)\n",
    "\n",
    "p_0 = np.array(pltu.spherical_to_cartesian(1, theta_0, phi_0))\n",
    "\n",
    "ax.plot(X,Y,Z)\n",
    "ax.plot([0,p_0[0]], [0, p_0[1]], [0, p_0[2]])\n",
    "ax.set_box_aspect((1,1,1))"
   ]
  },
  {
   "cell_type": "code",
   "execution_count": 6,
   "metadata": {},
   "outputs": [],
   "source": [
    "#arr = array_analysis.ArrayController()\n",
    "#arr."
   ]
  }
 ],
 "metadata": {
  "interpreter": {
   "hash": "b3ba2566441a7c06988d0923437866b63cedc61552a5af99d1f4fb67d367b25f"
  },
  "kernelspec": {
   "display_name": "Python 3.8.5 64-bit ('base': conda)",
   "name": "python3"
  },
  "language_info": {
   "codemirror_mode": {
    "name": "ipython",
    "version": 3
   },
   "file_extension": ".py",
   "mimetype": "text/x-python",
   "name": "python",
   "nbconvert_exporter": "python",
   "pygments_lexer": "ipython3",
   "version": "3.8.5"
  },
  "orig_nbformat": 4
 },
 "nbformat": 4,
 "nbformat_minor": 2
}
